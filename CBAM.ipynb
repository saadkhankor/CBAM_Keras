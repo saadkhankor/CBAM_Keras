{
  "nbformat": 4,
  "nbformat_minor": 0,
  "metadata": {
    "colab": {
      "provenance": []
    },
    "kernelspec": {
      "name": "python3",
      "display_name": "Python 3"
    },
    "language_info": {
      "name": "python"
    },
    "accelerator": "GPU",
    "gpuClass": "standard"
  },
  "cells": [
    {
      "cell_type": "code",
      "execution_count": null,
      "metadata": {
        "id": "sbuI-dDmMobZ"
      },
      "outputs": [],
      "source": [
        "#!unzip /content/drive/MyDrive/Exp1_dataset.zip -d /content/drive/MyDrive/fer_experiments"
      ]
    },
    {
      "cell_type": "code",
      "source": [
        "%cd /content/drive/MyDrive/fer_experiments"
      ],
      "metadata": {
        "colab": {
          "base_uri": "https://localhost:8080/"
        },
        "id": "1Ovt09RgQWF8",
        "outputId": "b20caa4e-1d5e-4782-f054-9e7f1aacdc0e"
      },
      "execution_count": null,
      "outputs": [
        {
          "output_type": "stream",
          "name": "stdout",
          "text": [
            "/content/drive/MyDrive/fer_experiments\n"
          ]
        }
      ]
    },
    {
      "cell_type": "code",
      "source": [
        "\n",
        "import cv2\n",
        "import os\n",
        "import glob\n",
        "import keras\n",
        "import numpy as np\n",
        "from deepface import DeepFace\n",
        "from keras.models import Model\n",
        "import matplotlib.pyplot as plt\n",
        "from keras.models import Sequential\n",
        "from tensorflow.keras import layers\n",
        "from tensorflow.keras.optimizers import Adam\n",
        "from sklearn.preprocessing import LabelEncoder\n",
        "from tensorflow.keras.utils import to_categorical\n",
        "from attention_module import attach_attention_module\n",
        "from sklearn.model_selection import train_test_split\n",
        "from tensorflow.keras.layers import MaxPooling2D,AveragePooling2D, GlobalAveragePooling2D,Input\n",
        "from tensorflow.keras.layers import Dense, Activation, Dropout, Flatten, Conv2D,BatchNormalization"
      ],
      "metadata": {
        "id": "IWIGoE30Njgj"
      },
      "execution_count": null,
      "outputs": []
    },
    {
      "cell_type": "code",
      "source": [
        "def data_loader(dir,img_size):\n",
        "  path = dir\n",
        "  data_paths = os.path.join(path,'*g')\n",
        "  imagePaths = glob.glob(data_paths)\n",
        "  print(\"total files in imagePaths\",len(imagePaths))\n",
        "\n",
        "  labels=[]\n",
        "  faces=[]\n",
        "  for imgpath in imagePaths:\n",
        "    images=cv2.imread(imgpath)\n",
        "      \n",
        "    #Face_detection---------------------------------------------------------\n",
        "    backends = ['opencv', 'ssd', 'dlib', 'mtcnn', 'retinaface', 'mediapipe']\n",
        "    face_detection = DeepFace.detectFace(img_path = images, target_size = img_size, detector_backend = backends[5], enforce_detection=False)\n",
        "    \n",
        "    #Dataset presentation----------------------------------------\n",
        "    faces.append(face_detection)\n",
        "    label= imgpath.split(os.path.sep)[-2].split(\"_\")\n",
        "    labels.append(label)\n",
        "\n",
        "  return faces,labels\n",
        "    "
      ],
      "metadata": {
        "id": "NcDRohNBQL6g"
      },
      "execution_count": null,
      "outputs": []
    },
    {
      "cell_type": "code",
      "source": [
        "def data_preprocessing(dir,img_size):\n",
        "  images,labels=data_loader(dir,img_size)\n",
        "  images=np.array(images)\n",
        "  labels=np.array(labels)\n",
        "  label_encoder = LabelEncoder()\n",
        "  labels = label_encoder.fit_transform(labels)\n",
        "  return images,labels\n",
        "  "
      ],
      "metadata": {
        "id": "Etqn_NBWQ3C7"
      },
      "execution_count": null,
      "outputs": []
    },
    {
      "cell_type": "code",
      "source": [
        "dir=\"/content/drive/MyDrive/fer_experiments/Exp1_dataset/*\"\n",
        "img_size=(48,48)\n",
        "images,labels=data_preprocessing(dir,img_size)"
      ],
      "metadata": {
        "colab": {
          "base_uri": "https://localhost:8080/"
        },
        "id": "s2ldqaUARYf2",
        "outputId": "bc189937-dc91-4626-cca9-4df3415b1557"
      },
      "execution_count": null,
      "outputs": [
        {
          "output_type": "stream",
          "name": "stdout",
          "text": [
            "total files in imagePaths 38870\n"
          ]
        }
      ]
    },
    {
      "cell_type": "code",
      "source": [
        "# saving in numpy\n",
        "images=np.save('/content/drive/MyDrive/fer_experiments/images',images)\n",
        "labels=np.save('/content/drive/MyDrive/fer_experiments/labels',labels)"
      ],
      "metadata": {
        "id": "gp_Z-MTDTGEe"
      },
      "execution_count": null,
      "outputs": []
    },
    {
      "cell_type": "code",
      "source": [
        "#Loading data\n",
        "images=np.load('/content/drive/MyDrive/fer_experiments/images.npy')\n",
        "labels=np.load('/content/drive/MyDrive/fer_experiments/labels.npy')\n",
        "print(\"Total Images\",images.shape)\n",
        "print(\"Total Labels\",labels.shape)"
      ],
      "metadata": {
        "colab": {
          "base_uri": "https://localhost:8080/"
        },
        "id": "DLtMSgZKSFS0",
        "outputId": "f5d2c2af-a2b7-4db7-ffcf-31d3527490be"
      },
      "execution_count": null,
      "outputs": [
        {
          "output_type": "stream",
          "name": "stdout",
          "text": [
            "Total Images (38870, 48, 48, 3)\n",
            "Total Labels (38870,)\n"
          ]
        }
      ]
    },
    {
      "cell_type": "code",
      "source": [
        "#splitting data\n",
        "x_train,x_test,y_train,y_test = train_test_split(images,labels,test_size=.1,random_state=True)\n",
        "#one hot encoding\n",
        "y_train = to_categorical(y_train)\n",
        "\n",
        "print(\"Trainig images\",x_train.shape)\n",
        "print(\"Trainig labels\",y_train.shape)\n",
        "print(\"Test images\",x_test.shape)\n",
        "print(\"Test labels\",y_test.shape)"
      ],
      "metadata": {
        "colab": {
          "base_uri": "https://localhost:8080/"
        },
        "id": "UEsRQJSSTDT_",
        "outputId": "516c6b21-d9c6-4d0c-953c-c1accb56f347"
      },
      "execution_count": null,
      "outputs": [
        {
          "output_type": "stream",
          "name": "stdout",
          "text": [
            "Trainig images (34983, 48, 48, 3)\n",
            "Trainig labels (34983, 7)\n",
            "Test images (3887, 48, 48, 3)\n",
            "Test labels (3887,)\n"
          ]
        }
      ]
    },
    {
      "cell_type": "code",
      "source": [
        "from keras.layers.attention.multi_head_attention import activation\n",
        "def cusotm_cnn():\n",
        "  input_shape = Input(shape=(48,48,3))\n",
        "  x1 = Conv2D(32,kernel_size=(1,1),activation='relu',padding='same')(input_shape)\n",
        "  x2 = Conv2D(32,kernel_size=(3,3),activation='relu',padding='same')(x1)\n",
        "\n",
        "  x = attach_attention_module(x2, 'se_block')\n",
        "  x = keras.layers.add([x, x2])\n",
        "  x = Activation('relu')(x)\n",
        "\n",
        "\n",
        "  x3 = Conv2D(64,kernel_size=(3,3),activation='relu',padding='same')(x2)\n",
        "  x4 = Conv2D(64,kernel_size=(3,3),activation='relu',padding='same')(x3)\n",
        "  x4 = MaxPooling2D(2,2)(x4)\n",
        "\n",
        "  x = attach_attention_module(x4, 'se_block')\n",
        "  x = keras.layers.add([x, x4])\n",
        "  x = Activation('relu')(x)\n",
        "\n",
        "  x5 = Conv2D(128,kernel_size=(3,3),activation='relu',padding='same')(x4)\n",
        "  x6 = Conv2D(128,kernel_size=(3,3),activation='relu',padding='same')(x5)\n",
        "  x7 = Conv2D(128,kernel_size=(3,3),activation='relu',padding='same')(x6)\n",
        "  x7 = MaxPooling2D(2,2)(x7)\n",
        "\n",
        "  x = attach_attention_module(x7, 'se_block')\n",
        "  x = keras.layers.add([x, x7])\n",
        "  x = Activation('relu')(x)\n",
        "\n",
        "  x8 = Conv2D(256,kernel_size=(3,3),activation='relu',padding='same')(x7)\n",
        "  x9 = Conv2D(256,kernel_size=(3,3),activation='relu',padding='same')(x8)\n",
        "  x10 = Conv2D(256,kernel_size=(3,3),activation='relu',padding='same')(x9)\n",
        "  x10 = MaxPooling2D(2,2)(x10)\n",
        "\n",
        "  x = attach_attention_module(x10, 'se_block')\n",
        "  x = keras.layers.add([x, x10])\n",
        "  x = Activation('relu')(x)\n",
        "\n",
        "  f = Flatten()(x)\n",
        "  f1=Dense(512,activation='relu')(f)\n",
        "  f2=Dense(256,activation='relu')(f1)\n",
        "  out=Dense(7,activation='softmax')(f2)\n",
        "  \n",
        "  model = Model(inputs=input_shape, outputs=out)\n",
        "\n",
        "  return model"
      ],
      "metadata": {
        "id": "pOA4f5THWT1x"
      },
      "execution_count": null,
      "outputs": []
    },
    {
      "cell_type": "code",
      "source": [
        "model = cusotm_cnn()\n",
        "model.summary()"
      ],
      "metadata": {
        "colab": {
          "base_uri": "https://localhost:8080/"
        },
        "id": "i40x2E8DYwkc",
        "outputId": "c90e14b1-b914-4503-f593-dbbf049e6532"
      },
      "execution_count": null,
      "outputs": [
        {
          "output_type": "stream",
          "name": "stdout",
          "text": [
            "Model: \"model_12\"\n",
            "__________________________________________________________________________________________________\n",
            " Layer (type)                   Output Shape         Param #     Connected to                     \n",
            "==================================================================================================\n",
            " input_15 (InputLayer)          [(None, 48, 48, 3)]  0           []                               \n",
            "                                                                                                  \n",
            " conv2d_131 (Conv2D)            (None, 48, 48, 32)   128         ['input_15[0][0]']               \n",
            "                                                                                                  \n",
            " conv2d_132 (Conv2D)            (None, 48, 48, 32)   9248        ['conv2d_131[0][0]']             \n",
            "                                                                                                  \n",
            " conv2d_133 (Conv2D)            (None, 48, 48, 64)   18496       ['conv2d_132[0][0]']             \n",
            "                                                                                                  \n",
            " conv2d_134 (Conv2D)            (None, 48, 48, 64)   36928       ['conv2d_133[0][0]']             \n",
            "                                                                                                  \n",
            " max_pooling2d_39 (MaxPooling2D  (None, 24, 24, 64)  0           ['conv2d_134[0][0]']             \n",
            " )                                                                                                \n",
            "                                                                                                  \n",
            " conv2d_135 (Conv2D)            (None, 24, 24, 128)  73856       ['max_pooling2d_39[0][0]']       \n",
            "                                                                                                  \n",
            " conv2d_136 (Conv2D)            (None, 24, 24, 128)  147584      ['conv2d_135[0][0]']             \n",
            "                                                                                                  \n",
            " conv2d_137 (Conv2D)            (None, 24, 24, 128)  147584      ['conv2d_136[0][0]']             \n",
            "                                                                                                  \n",
            " max_pooling2d_40 (MaxPooling2D  (None, 12, 12, 128)  0          ['conv2d_137[0][0]']             \n",
            " )                                                                                                \n",
            "                                                                                                  \n",
            " conv2d_138 (Conv2D)            (None, 12, 12, 256)  295168      ['max_pooling2d_40[0][0]']       \n",
            "                                                                                                  \n",
            " conv2d_139 (Conv2D)            (None, 12, 12, 256)  590080      ['conv2d_138[0][0]']             \n",
            "                                                                                                  \n",
            " conv2d_140 (Conv2D)            (None, 12, 12, 256)  590080      ['conv2d_139[0][0]']             \n",
            "                                                                                                  \n",
            " max_pooling2d_41 (MaxPooling2D  (None, 6, 6, 256)   0           ['conv2d_140[0][0]']             \n",
            " )                                                                                                \n",
            "                                                                                                  \n",
            " global_average_pooling2d_55 (G  (None, 256)         0           ['max_pooling2d_41[0][0]']       \n",
            " lobalAveragePooling2D)                                                                           \n",
            "                                                                                                  \n",
            " reshape_55 (Reshape)           (None, 1, 1, 256)    0           ['global_average_pooling2d_55[0][\n",
            "                                                                 0]']                             \n",
            "                                                                                                  \n",
            " dense_140 (Dense)              (None, 1, 1, 32)     8224        ['reshape_55[0][0]']             \n",
            "                                                                                                  \n",
            " dense_141 (Dense)              (None, 1, 1, 256)    8448        ['dense_140[0][0]']              \n",
            "                                                                                                  \n",
            " multiply_55 (Multiply)         (None, 6, 6, 256)    0           ['max_pooling2d_41[0][0]',       \n",
            "                                                                  'dense_141[0][0]']              \n",
            "                                                                                                  \n",
            " add_55 (Add)                   (None, 6, 6, 256)    0           ['multiply_55[0][0]',            \n",
            "                                                                  'max_pooling2d_41[0][0]']       \n",
            "                                                                                                  \n",
            " activation_55 (Activation)     (None, 6, 6, 256)    0           ['add_55[0][0]']                 \n",
            "                                                                                                  \n",
            " flatten_10 (Flatten)           (None, 9216)         0           ['activation_55[0][0]']          \n",
            "                                                                                                  \n",
            " dense_142 (Dense)              (None, 512)          4719104     ['flatten_10[0][0]']             \n",
            "                                                                                                  \n",
            " dense_143 (Dense)              (None, 256)          131328      ['dense_142[0][0]']              \n",
            "                                                                                                  \n",
            " dense_144 (Dense)              (None, 7)            1799        ['dense_143[0][0]']              \n",
            "                                                                                                  \n",
            "==================================================================================================\n",
            "Total params: 6,778,055\n",
            "Trainable params: 6,778,055\n",
            "Non-trainable params: 0\n",
            "__________________________________________________________________________________________________\n"
          ]
        }
      ]
    },
    {
      "cell_type": "code",
      "source": [
        "opt=Adam(lr=(0.0003))\n",
        "model.compile(loss='categorical_crossentropy', optimizer=opt, metrics=['accuracy'])"
      ],
      "metadata": {
        "id": "W292idB8Y6lQ"
      },
      "execution_count": null,
      "outputs": []
    },
    {
      "cell_type": "code",
      "source": [
        "#callbacks_baseline = create_callbacks_dropout()\n",
        "history=model.fit(\n",
        "        x=x_train,\n",
        "        y=y_train,\n",
        "        batch_size=32,\n",
        "        epochs=5,\n",
        "        validation_split=0.2\n",
        "        #,callbacks = callbacks_baseline\n",
        "         )"
      ],
      "metadata": {
        "colab": {
          "base_uri": "https://localhost:8080/"
        },
        "id": "ERd1Xf7QZ3L0",
        "outputId": "4b70740c-76d8-4d41-ccfc-68021e234e5b"
      },
      "execution_count": null,
      "outputs": [
        {
          "output_type": "stream",
          "name": "stdout",
          "text": [
            "Epoch 1/5\n",
            "875/875 [==============================] - 28s 31ms/step - loss: 1.8600 - accuracy: 0.2556 - val_loss: 1.7065 - val_accuracy: 0.3339\n",
            "Epoch 2/5\n",
            "875/875 [==============================] - 27s 31ms/step - loss: 1.5558 - accuracy: 0.4033 - val_loss: 1.4595 - val_accuracy: 0.4479\n",
            "Epoch 3/5\n",
            "875/875 [==============================] - 26s 30ms/step - loss: 1.3463 - accuracy: 0.4924 - val_loss: 1.3397 - val_accuracy: 0.4914\n",
            "Epoch 4/5\n",
            "875/875 [==============================] - 26s 30ms/step - loss: 1.1771 - accuracy: 0.5576 - val_loss: 1.2646 - val_accuracy: 0.5281\n",
            "Epoch 5/5\n",
            "875/875 [==============================] - 27s 30ms/step - loss: 0.9917 - accuracy: 0.6326 - val_loss: 1.2544 - val_accuracy: 0.5518\n"
          ]
        }
      ]
    },
    {
      "cell_type": "code",
      "source": [
        "#----------------------- Plot Training and Validation Accuracy curves -----------------------------\n",
        "plt.plot(history.history['accuracy'])\n",
        "plt.plot(history.history['val_accuracy'])\n",
        "plt.title('model accuracy')\n",
        "plt.ylabel('accuracy')\n",
        "plt.xlabel('epoch')\n",
        "plt.legend(['train', 'validation'], loc='upper left')\n",
        "plt.show()\n",
        "\n",
        "plt.plot(history.history['loss'])\n",
        "plt.plot(history.history['val_loss'])\n",
        "plt.title('model loss')\n",
        "plt.ylabel('loss')\n",
        "plt.xlabel('epoch')\n",
        "plt.legend(['train', 'validation'], loc='upper left')\n",
        "plt.show()"
      ],
      "metadata": {
        "colab": {
          "base_uri": "https://localhost:8080/",
          "height": 573
        },
        "id": "mPFPrmyvZ9NY",
        "outputId": "1f4a8b65-18d1-4570-ff52-42b39ec77be3"
      },
      "execution_count": null,
      "outputs": [
        {
          "output_type": "display_data",
          "data": {
            "text/plain": [
              "<Figure size 432x288 with 1 Axes>"
            ],
            "image/png": "[encoded data removed]"
          },
          "metadata": {
            "needs_background": "light"
          }
        },
        {
          "output_type": "display_data",
          "data": {
            "text/plain": [
              "<Figure size 432x288 with 1 Axes>"
            ],
            "image/png": "[encoded data removed]"
          },
          "metadata": {
            "needs_background": "light"
          }
        }
      ]
    },
    {
      "cell_type": "code",
      "source": [],
      "metadata": {
        "id": "7FAPtHujcK7b"
      },
      "execution_count": null,
      "outputs": []
    }
  ]
}